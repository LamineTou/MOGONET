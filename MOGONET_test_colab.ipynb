{
  "nbformat": 4,
  "nbformat_minor": 0,
  "metadata": {
    "colab": {
      "provenance": [],
      "authorship_tag": "ABX9TyO3CEwTGgXnVrBC+miN99kY",
      "include_colab_link": true
    },
    "kernelspec": {
      "name": "python3",
      "display_name": "Python 3"
    },
    "language_info": {
      "name": "python"
    },
    "accelerator": "GPU",
    "gpuClass": "standard"
  },
  "cells": [
    {
      "cell_type": "markdown",
      "metadata": {
        "id": "view-in-github",
        "colab_type": "text"
      },
      "source": [
        "<a href=\"https://colab.research.google.com/github/LamineTou/MOGONET/blob/main/MOGONET_test_colab.ipynb\" target=\"_parent\"><img src=\"https://colab.research.google.com/assets/colab-badge.svg\" alt=\"Open In Colab\"/></a>"
      ]
    },
    {
      "cell_type": "markdown",
      "source": [
        "# MOGONET test "
      ],
      "metadata": {
        "id": "XzcVz8qzbCOc"
      }
    },
    {
      "cell_type": "markdown",
      "source": [
        "Testing MOGONET on GPU. "
      ],
      "metadata": {
        "id": "wqhKPNu7bH5-"
      }
    },
    {
      "cell_type": "code",
      "execution_count": 1,
      "metadata": {
        "colab": {
          "base_uri": "https://localhost:8080/"
        },
        "id": "DKEuLCkLU_ZA",
        "outputId": "eeff54c9-f1b7-4487-f12a-43d4caf02b4f"
      },
      "outputs": [
        {
          "output_type": "stream",
          "name": "stdout",
          "text": [
            "Cloning into 'MOGONET'...\n",
            "remote: Enumerating objects: 124, done.\u001b[K\n",
            "remote: Counting objects: 100% (6/6), done.\u001b[K\n",
            "remote: Compressing objects: 100% (5/5), done.\u001b[K\n",
            "remote: Total 124 (delta 0), reused 4 (delta 0), pack-reused 118\u001b[K\n",
            "Receiving objects: 100% (124/124), 57.45 MiB | 26.39 MiB/s, done.\n",
            "Resolving deltas: 100% (6/6), done.\n"
          ]
        }
      ],
      "source": [
        "!git clone https://github.com/txWang/MOGONET.git"
      ]
    },
    {
      "cell_type": "code",
      "source": [
        "%cd /content/MOGONET/"
      ],
      "metadata": {
        "colab": {
          "base_uri": "https://localhost:8080/"
        },
        "id": "i83gIZ0pVI1T",
        "outputId": "e3b43316-e0f8-4acc-fa31-fa694f850fec"
      },
      "execution_count": 2,
      "outputs": [
        {
          "output_type": "stream",
          "name": "stdout",
          "text": [
            "/content/MOGONET\n"
          ]
        }
      ]
    },
    {
      "cell_type": "code",
      "source": [
        "%ls"
      ],
      "metadata": {
        "colab": {
          "base_uri": "https://localhost:8080/"
        },
        "id": "3KJPI1KMVQUx",
        "outputId": "def8b3b1-a77b-4671-a112-3f570c9af482"
      },
      "execution_count": 3,
      "outputs": [
        {
          "output_type": "stream",
          "name": "stdout",
          "text": [
            "\u001b[0m\u001b[01;34mBRCA\u001b[0m/               main_biomarker.py  MOGONET.png  train_test.py\n",
            "feat_importance.py  main_mogonet.py    README.md    utils.py\n",
            "LICENSE             models.py          \u001b[01;34mROSMAP\u001b[0m/\n"
          ]
        }
      ]
    },
    {
      "cell_type": "code",
      "source": [
        "from train_test import train_test\n",
        "\n",
        "if __name__ == \"__main__\":    \n",
        "    data_folder = 'ROSMAP'\n",
        "    view_list = [1,2,3]\n",
        "    num_epoch_pretrain = 1000\n",
        "    num_epoch = 2\n",
        "    lr_e_pretrain = 1e-3\n",
        "    lr_e = 5e-4\n",
        "    lr_c = 1e-3\n",
        "    \n",
        "    if data_folder == 'ROSMAP':\n",
        "        num_class = 2\n",
        "    if data_folder == 'BRCA':\n",
        "        num_class = 5\n",
        "    \n",
        "    train_test(data_folder, view_list, num_class,\n",
        "               lr_e_pretrain, lr_e, lr_c, \n",
        "               num_epoch_pretrain, num_epoch)       "
      ],
      "metadata": {
        "colab": {
          "base_uri": "https://localhost:8080/"
        },
        "id": "tBhFqtY9VSVg",
        "outputId": "76215467-9c22-4904-903b-bf8a69e0bb52"
      },
      "execution_count": 4,
      "outputs": [
        {
          "output_type": "stream",
          "name": "stdout",
          "text": [
            "\n",
            "Pretrain GCNs...\n",
            "\n",
            "Training...\n",
            "\n",
            "Test: Epoch 0\n",
            "Test ACC: 0.632\n",
            "Test F1: 0.731\n",
            "Test AUC: 0.721\n",
            "\n"
          ]
        }
      ]
    },
    {
      "cell_type": "code",
      "source": [
        "import os\n",
        "import copy\n",
        "from feat_importance import cal_feat_imp, summarize_imp_feat\n",
        "\n",
        "if __name__ == \"__main__\":\n",
        "    data_folder = 'BRCA'\n",
        "    model_folder = os.path.join(data_folder, 'models')\n",
        "    view_list = [1,2,3]\n",
        "    if data_folder == 'ROSMAP':\n",
        "        num_class = 2\n",
        "    if data_folder == 'BRCA':\n",
        "        num_class = 5\n",
        "\n",
        "    featimp_list_list = []\n",
        "    for rep in range(5):\n",
        "        featimp_list = cal_feat_imp(data_folder, os.path.join(model_folder, str(rep+1)), \n",
        "                                    view_list, num_class)\n",
        "        featimp_list_list.append(copy.deepcopy(featimp_list))\n",
        "    summarize_imp_feat(featimp_list_list)\n",
        "    "
      ],
      "metadata": {
        "colab": {
          "base_uri": "https://localhost:8080/"
        },
        "id": "xfcmz-C4VhQQ",
        "outputId": "a2ed33e3-2246-4ee1-beec-3c728d67bfd0"
      },
      "execution_count": 5,
      "outputs": [
        {
          "output_type": "stream",
          "name": "stdout",
          "text": [
            "Rank\tFeature name\n",
            "1\tSOX11|6664\n",
            "2\thsa-mir-205\n",
            "3\tGPR37L1\n",
            "4\tAMY1A|276\n",
            "5\tSLC6A15|55117\n",
            "6\tFABP7|2173\n",
            "7\tMIR563\n",
            "8\tSLC6A14|11254\n",
            "9\thsa-mir-187\n",
            "10\tSLC6A2|6530\n",
            "11\tFGFBP1|9982\n",
            "12\tDSG1|1828\n",
            "13\tUGT8|7368\n",
            "14\tANKRD45|339416\n",
            "15\tOR1J4\n",
            "16\tATP10B\n",
            "17\tPI3|5266\n",
            "18\thsa-mir-452\n",
            "19\thsa-mir-20b\n",
            "20\tSERPINB5|5268\n",
            "21\tKRTAP3-3\n",
            "22\tCOL11A2|1302\n",
            "23\thsa-mir-224\n",
            "24\tFLJ41941\n",
            "25\tARHGEF4|50649\n",
            "26\tSOX10|6663\n",
            "27\tTMEM207\n",
            "28\tCDH26\n",
            "29\tMT1DP\n",
            "30\thsa-mir-204\n"
          ]
        }
      ]
    },
    {
      "cell_type": "code",
      "source": [
        "import os\n",
        "import copy\n",
        "from feat_importance import cal_feat_imp, summarize_imp_feat\n",
        "\n",
        "if __name__ == \"__main__\":\n",
        "    data_folder = 'ROSMAP'\n",
        "    model_folder = os.path.join(data_folder, 'models')\n",
        "    view_list = [1,2,3]\n",
        "    if data_folder == 'ROSMAP':\n",
        "        num_class = 2\n",
        "    if data_folder == 'BRCA':\n",
        "        num_class = 5\n",
        "\n",
        "    featimp_list_list = []\n",
        "    for rep in range(5):\n",
        "        featimp_list = cal_feat_imp(data_folder, os.path.join(model_folder, str(rep+1)), \n",
        "                                    view_list, num_class)\n",
        "        featimp_list_list.append(copy.deepcopy(featimp_list))\n",
        "    summarize_imp_feat(featimp_list_list)"
      ],
      "metadata": {
        "colab": {
          "base_uri": "https://localhost:8080/"
        },
        "id": "VhICXWV7a4PX",
        "outputId": "3aad845b-2683-4336-bfd6-de01981e8ad3"
      },
      "execution_count": 6,
      "outputs": [
        {
          "output_type": "stream",
          "name": "stdout",
          "text": [
            "Rank\tFeature name\n",
            "1\thsa-miR-423-3p\n",
            "2\thsa-miR-33a\n",
            "3\thsa-miR-640\n",
            "4\thsa-miR-362-3p\n",
            "5\thsa-miR-491-5p\n",
            "6\tENSG00000168743.8\n",
            "7\tcg25736482\n",
            "8\tENSG00000117266.11\n",
            "9\tcg00398048\n",
            "10\thsa-miR-206\n",
            "11\tENSG00000155980.6\n",
            "12\thsa-miR-548b-3p\n",
            "13\thsa-miR-106a_hsa-miR-17\n",
            "14\thsa-miR-127-3p\n",
            "15\tcg27091787\n",
            "16\tENSG00000182310.7\n",
            "17\thsa-miR-424\n",
            "18\thsa-miR-577\n",
            "19\thsa-miR-873\n",
            "20\tcg22518733\n",
            "21\tENSG00000204219.5\n",
            "22\tENSG00000142765.12\n",
            "23\thsa-miR-651\n",
            "24\thsa-miR-199b-5p\n",
            "25\thsa-miR-192\n",
            "26\tcg12447832\n",
            "27\thsa-miR-199a-5p\n",
            "28\tENSG00000105643.3\n",
            "29\thsv1-miR-H1\n",
            "30\tENSG00000171388.9\n"
          ]
        }
      ]
    }
  ]
}